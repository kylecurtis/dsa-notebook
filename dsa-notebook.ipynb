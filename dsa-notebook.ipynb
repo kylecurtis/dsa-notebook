{
 "cells": [
  {
   "cell_type": "markdown",
   "metadata": {},
   "source": [
    "# DSA Notebook\n",
    "\n",
    "Learn Data Structures and Algorithms with Python from an interactive Jupyter Notebook!\n",
    "\n",
    "<br>\n",
    "\n",
    "## Table Of Contents\n",
    "\n",
    "`easy, hard = ⭐, ⭐⭐⭐⭐`\n",
    "\n",
    "| Topic | Difficulty | \n",
    "| :-- | :--: | \n",
    "| [Understanding Big O Notation](#) | ⭐ |\n",
    "| [Common Big O Classifications](#) | ⭐ |\n",
    "\n",
    "<br>\n"
   ]
  },
  {
   "cell_type": "markdown",
   "metadata": {},
   "source": [
    "<br>\n",
    "\n",
    "---\n",
    "\n",
    "<br>"
   ]
  },
  {
   "cell_type": "markdown",
   "metadata": {},
   "source": [
    "## Understanding Big O Notation\n",
    "\n",
    "Big O notation is a mathematical concept used to describe the efficiency of an algorithm in terms of its time and space requirements. \n",
    "\n",
    "It abstracts away constants and less significant terms to focus on the dominant factor that affects scalability.\n",
    "\n",
    "<br>\n",
    "\n",
    "#### Categories of Computational Complexity\n",
    "\n",
    "| Time Complexity | Space Complexity |\n",
    "|:---------------:|:----------------:|\n",
    "| This is a measure of the number of computational steps an algorithm takes relative to the input size. It gives us an idea of how long an algorithm will take to execute as the size of the input increases. | This is a measure of the amount of memory space required by an algorithm as the input size grows. It helps us understand how the memory usage of an algorithm will scale with larger inputs. |\n",
    "\n",
    "***Time complexity is generally what is discussed when referring to Big O, though space complexity is equally important in resource-constrained environments or with large datasets.***\n",
    "\n",
    "<br>\n",
    "\n",
    "#### Big O Example:\n",
    "\n",
    "`O(n)`\n",
    "\n",
    "- The \"O\" stands for \"Order of,\" which refers to the growth rate of the algorithm's resource usage in the worst-case scenario.\n",
    "\n",
    "- The \"n\" symbolizes the size of the input, but it is not the only variable that can be used. The specific nature of the input or the algorithm can introduce other variables.\n",
    "\n",
    "<br>\n",
    "\n",
    "#### Coefficients and Multiple Variables in Big O:\n",
    "\n",
    "Coefficients and additional variables may appear alongside or instead of `n` to provide a more precise characterization of complexity:\n",
    "\n",
    "- Coefficients: Constants are typically omitted in Big O notation because they don't change the growth rate. For example, `2n` and `n` both simplify to `O(n)`, as they grow linearly with `n`.\n",
    "\n",
    "- Multiple variables: For algorithms involving multi-dimensional data or operations, multiple variables can be used. For instance, in matrix multiplication, if one matrix is of size `m x n` and the other is `n x p`, the time complexity can be expressed as `O(mnp)`."
   ]
  },
  {
   "cell_type": "markdown",
   "metadata": {},
   "source": [
    "<br>\n",
    "\n",
    "---\n",
    "\n",
    "<br>"
   ]
  },
  {
   "cell_type": "markdown",
   "metadata": {},
   "source": [
    "\n",
    "## Common Big O Classifications\n",
    "\n",
    "#### O(1) - Constant Complexity\n",
    "\n",
    "- **What it means**: The term \"constant time\" implies that the operation's time does not change with the input size. No matter how large your dataset is, the algorithm takes a fixed amount of time.\n",
    "\n",
    "- **Example**: Accessing an element in an array by index. Whether your array has 10 items or 10,000, retrieving an element with array[5] always takes the same time.\n",
    "\n",
    "<img src=\"./assets/images/Constant-Chart.png\">\n",
    "\n",
    "<br>\n",
    "\n",
    "#### O(n) - Linear Complexity\n",
    "\n",
    "- **What it means**: Here, 'n' represents the size of the input. O(n) means that the time taken grows linearly with the input size. If the input size doubles, so does the time taken.\n",
    "\n",
    "- **Example**: Searching for an element in an unsorted list. In the worst case, you might have to look at every element once, so for a list twice as long, it'll take twice as long to search.\n",
    "\n",
    "<img src=\"./assets/images/Linear-Chart.png\">\n",
    "\n",
    "<br>\n",
    "\n",
    "#### O(log n) - Logarithmic Complexity\n",
    "\n",
    "- **What it means**: Logarithmic time complexity is faster than linear time. Here, every time you double the size of your input, the number of steps needed increases by just one step or a small amount.\n",
    "\n",
    "- **Example**: Binary search in a sorted array. Each time you divide the array in half, significantly reducing the number of elements you need to check.\n",
    "\n",
    "<img src=\"./assets/images/Logarithmic-Time-Chart.png\">\n",
    "\n",
    "<br>\n",
    "\n",
    "#### O(n log n) - Log-Linear Complexity\n",
    "\n",
    "- **What it means**: Log-Linear complexity describes algorithms where the time taken increases linearly with the input size, but each step of the process involves a logarithmic number of operations. It's more efficient than quadratic time but less so than linear time for large datasets.\n",
    "\n",
    "- **Example**: Merge Sort is a typical example. It involves dividing the dataset into smaller halves (log n) and then combining them (n), leading to n log n operations overall. This makes it much faster than quadratic algorithms for large datasets.\n",
    "\n",
    "<img src=\"./assets/images/Linearithmic-Time-Chart.png\">\n",
    "\n",
    "<br>\n",
    "\n",
    "#### O(n^2) - Quadratic Complexity\n",
    "\n",
    "- **What it means**: Quadratic time means that if you double the input size, the time taken increases by four times (2^2). It grows significantly faster than linear time and can become inefficient for large inputs.\n",
    "\n",
    "- **Example**: A nested loop where for each element of the array, you perform another loop over the entire array, like in a simple sorting algorithm like bubble sort.\n",
    "\n",
    "<img src=\"./assets/images/Quadratic-Time-Chart.png\">\n",
    "\n",
    "<br>\n",
    "\n",
    "#### O(2^n) - Exponential Complexity\n",
    "\n",
    "- **What it means**: In exponential time, the growth of the runtime doubles with each addition to the input data set. This is generally unsustainable even for moderately large input sizes.\n",
    "\n",
    "- **Example**: Algorithms that solve problems by generating all combinations, like certain recursive algorithms.\n",
    "\n",
    "<img src=\"./assets/images/Exponential-Time-Chart.png\">\n",
    "\n",
    "<br>\n",
    "\n",
    "#### O(n!) - Factorial Complexity\n",
    "\n",
    "- **What it means**: Factorial time complexity is even more extreme than exponential. Here, the number of operations increases factorially with the input size. It becomes impractical for even small input sizes.\n",
    "\n",
    "- **Example**: Solving the Traveling Salesman Problem via brute-force, checking all possible routes.\n",
    "\n",
    "<img src=\"./assets/images/Factorial-Time-Chart.png\">\n",
    "\n",
    "\n"
   ]
  },
  {
   "cell_type": "markdown",
   "metadata": {},
   "source": [
    "<br>\n",
    "\n",
    "---\n",
    "\n",
    "<br>"
   ]
  },
  {
   "cell_type": "markdown",
   "metadata": {},
   "source": [
    "## Fundamental Data Structures \n",
    "\n",
    "Data structures are essential for organizing and storing data efficiently. Understanding their time and space complexities is crucial for effective algorithm design."
   ]
  },
  {
   "cell_type": "markdown",
   "metadata": {},
   "source": [
    "#### Arrays\n",
    "\n",
    "**Known as a `list` in Python**"
   ]
  },
  {
   "cell_type": "markdown",
   "metadata": {},
   "source": [
    "| Operation       | Big O   | Description |\n",
    "|-----------------|---------|-------------|\n",
    "| Access          | O(1)    | Direct access to elements by their index. |\n",
    "| Search          | O(n)    | May require scanning the entire array. |\n",
    "| Insertion/Deletion | O(n) | Typically involves shifting elements. |\n",
    "| Appending       | O(1)    | Amortized; efficient if space is available. |\n",
    "\n",
    "*Note: Arrays in some languages have a fixed size, making resizing an O(n) operation.*\n"
   ]
  },
  {
   "cell_type": "markdown",
   "metadata": {},
   "source": [
    "#### Array (List) Example"
   ]
  },
  {
   "cell_type": "code",
   "execution_count": null,
   "metadata": {},
   "outputs": [],
   "source": [
    "planets = [\"Mercury\", \"Venus\", \"Earth\", \"Mars\"]"
   ]
  },
  {
   "cell_type": "markdown",
   "metadata": {},
   "source": [
    "#### Access"
   ]
  },
  {
   "cell_type": "code",
   "execution_count": null,
   "metadata": {},
   "outputs": [],
   "source": [
    "print(planets[2])"
   ]
  },
  {
   "cell_type": "markdown",
   "metadata": {},
   "source": [
    "#### Search"
   ]
  },
  {
   "cell_type": "code",
   "execution_count": null,
   "metadata": {},
   "outputs": [],
   "source": [
    "print(\"Mars\" in planets)"
   ]
  },
  {
   "cell_type": "markdown",
   "metadata": {},
   "source": [
    "#### Insertion"
   ]
  },
  {
   "cell_type": "code",
   "execution_count": null,
   "metadata": {},
   "outputs": [],
   "source": [
    "planets.insert(4, \"Jupiter\")  \n",
    "print(planets)"
   ]
  },
  {
   "cell_type": "markdown",
   "metadata": {},
   "source": [
    "#### Deletion"
   ]
  },
  {
   "cell_type": "code",
   "execution_count": null,
   "metadata": {},
   "outputs": [],
   "source": [
    "planets.remove(\"Jupiter\")\n",
    "print(planets)"
   ]
  },
  {
   "cell_type": "markdown",
   "metadata": {},
   "source": [
    "#### Appending"
   ]
  },
  {
   "cell_type": "code",
   "execution_count": null,
   "metadata": {},
   "outputs": [],
   "source": [
    "planets.append(\"Jupiter\")\n",
    "print(planets)"
   ]
  },
  {
   "cell_type": "markdown",
   "metadata": {},
   "source": [
    "<br>"
   ]
  },
  {
   "cell_type": "markdown",
   "metadata": {},
   "source": [
    "\n",
    "#### Linked Lists\n",
    "\n",
    "| Operation       | Big O   | Description |\n",
    "|-----------------|---------|-------------|\n",
    "| Access          | O(n)    | Requires traversing the list to find an element. |\n",
    "| Search          | O(n)    | Linear traversal to find an element. |\n",
    "| Insert/Delete at Beginning | O(1) | Involves just changing a pointer. |\n",
    "| Insert/Delete at End or Middle | O(n) | Requires traversal to the point of operation. |\n",
    "\n",
    "*Note: Linked lists offer efficient insertions/deletions and dynamic growth.*\n",
    "\n",
    "<br>\n",
    "\n",
    "#### Stacks and Queues\n",
    "\n",
    "| Operation       | Big O   | Description |\n",
    "|-----------------|---------|-------------|\n",
    "| Access          | O(n)    | Requires traversal of the structure. |\n",
    "| Search          | O(n)    | Sequential search is needed. |\n",
    "| Insertion/Deletion | O(1) | Quick operation at the top/front. |\n",
    "\n",
    "*Note: Stacks (LIFO) and queues (FIFO) can be implemented using arrays or linked lists.*\n",
    "\n",
    "<br>\n",
    "\n",
    "#### Hash Tables\n",
    "\n",
    "| Operation       | Big O   | Description |\n",
    "|-----------------|---------|-------------|\n",
    "| Access          | N/A     | Not applicable as direct access isn't typical. |\n",
    "| Search          | O(1)    | Fast retrieval, but depends on collision handling. |\n",
    "| Insertion/Deletion | O(1) | Generally efficient barring collisions. |\n",
    "\n",
    "*Note: Collisions and their resolution strategies can significantly affect performance.*\n",
    "\n",
    "<br>\n",
    "\n",
    "#### Trees\n",
    "\n",
    "| Operation       | Big O   | Description |\n",
    "|-----------------|---------|-------------|\n",
    "| Access/Search   | O(log n) | For balanced binary search trees. |\n",
    "| Insertion/Deletion | O(log n) | Depends on the tree's balance. |\n",
    "\n",
    "*Note: Trees, such as AVL and Red-Black, have specific balancing algorithms.*\n",
    "\n",
    "<br>\n",
    "\n",
    "#### Graphs\n",
    "\n",
    "| Operation       | Big O         | Description |\n",
    "|-----------------|---------------|-------------|\n",
    "| Access/Search   | O(V + E)      | Based on vertices (V) and edges (E). |\n",
    "| Insert Vertex/Edge | O(1)       | For adjacency list; O(V^2) for matrix. |\n",
    "| Delete Vertex/Edge | O(V + E)   | For adjacency list; O(V^2) for matrix. |\n",
    "\n",
    "*Note: Graphs are used for complex network representations and have varied complexity based on their representation (adjacency list/matrix) and search algorithm (DFS/BFS).*\n",
    "\n",
    "Using tables for each data structure helps to clearly delineate the complexities and descriptions of operations, providing a quick and organized reference.\n"
   ]
  }
 ],
 "metadata": {
  "kernelspec": {
   "display_name": "venv",
   "language": "python",
   "name": "python3"
  },
  "language_info": {
   "codemirror_mode": {
    "name": "ipython",
    "version": 3
   },
   "file_extension": ".py",
   "mimetype": "text/x-python",
   "name": "python",
   "nbconvert_exporter": "python",
   "pygments_lexer": "ipython3",
   "version": "3.11.4"
  }
 },
 "nbformat": 4,
 "nbformat_minor": 2
}

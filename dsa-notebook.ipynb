{
 "cells": [
  {
   "cell_type": "markdown",
   "metadata": {},
   "source": [
    "# DSA Notebook\n",
    "\n",
    "Learn Data Structures and Algorithms with Python from an interactive Jupyter Notebook!\n",
    "\n",
    "<br>\n",
    "\n",
    "## Table Of Contents\n",
    "\n",
    "`easy, hard = ⭐, ⭐⭐⭐⭐`\n",
    "\n",
    "| Topic | Difficulty | \n",
    "| :-- | :--: | \n",
    "| [Understanding Big O Notation](#) | ⭐ |\n",
    "| [Common Big O Classifications](#) | ⭐ |\n",
    "\n",
    "<br>\n"
   ]
  },
  {
   "cell_type": "markdown",
   "metadata": {},
   "source": [
    "<br>\n",
    "\n",
    "---\n",
    "\n",
    "<br>"
   ]
  },
  {
   "cell_type": "markdown",
   "metadata": {},
   "source": [
    "## Understanding Big O Notation\n",
    "\n",
    "Big O notation is a mathematical concept used to describe the efficiency of an algorithm in terms of its time and space requirements. \n",
    "\n",
    "It abstracts away constants and less significant terms to focus on the dominant factor that affects scalability.\n",
    "\n",
    "<br>\n",
    "\n",
    "#### Categories of Computational Complexity\n",
    "\n",
    "| Time Complexity | Space Complexity |\n",
    "|:---------------:|:----------------:|\n",
    "| This is a measure of the number of computational steps an algorithm takes relative to the input size. It gives us an idea of how long an algorithm will take to execute as the size of the input increases. | This is a measure of the amount of memory space required by an algorithm as the input size grows. It helps us understand how the memory usage of an algorithm will scale with larger inputs. |\n",
    "\n",
    "***Time complexity is generally what is discussed when referring to Big O, though space complexity is equally important in resource-constrained environments or with large datasets.***\n",
    "\n",
    "<br>\n",
    "\n",
    "#### Big O Example:\n",
    "\n",
    "`O(n)`\n",
    "\n",
    "- The \"O\" stands for \"Order of,\" which refers to the growth rate of the algorithm's resource usage in the worst-case scenario.\n",
    "\n",
    "- The \"n\" symbolizes the size of the input, but it is not the only variable that can be used. The specific nature of the input or the algorithm can introduce other variables.\n",
    "\n",
    "<br>\n",
    "\n",
    "#### Coefficients and Multiple Variables in Big O:\n",
    "\n",
    "Coefficients and additional variables may appear alongside or instead of `n` to provide a more precise characterization of complexity:\n",
    "\n",
    "- Coefficients: Constants are typically omitted in Big O notation because they don't change the growth rate. For example, `2n` and `n` both simplify to `O(n)`, as they grow linearly with `n`.\n",
    "\n",
    "- Multiple variables: For algorithms involving multi-dimensional data or operations, multiple variables can be used. For instance, in matrix multiplication, if one matrix is of size `m x n` and the other is `n x p`, the time complexity can be expressed as `O(mnp)`."
   ]
  },
  {
   "cell_type": "markdown",
   "metadata": {},
   "source": [
    "<br>\n",
    "\n",
    "---\n",
    "\n",
    "<br>"
   ]
  },
  {
   "cell_type": "markdown",
   "metadata": {},
   "source": [
    "\n",
    "## Common Big O Classifications\n",
    "\n",
    "#### O(1) - Constant Complexity\n",
    "\n",
    "- **What it means**: The term \"constant time\" implies that the operation's time does not change with the input size. No matter how large your dataset is, the algorithm takes a fixed amount of time.\n",
    "\n",
    "- **Example**: Accessing an element in an array by index. Whether your array has 10 items or 10,000, retrieving an element with array[5] always takes the same time.\n",
    "\n",
    "<img src=\"./assets/images/Constant-Chart.png\">\n",
    "\n",
    "<br>\n",
    "\n",
    "#### O(n) - Linear Complexity\n",
    "\n",
    "- **What it means**: Here, 'n' represents the size of the input. O(n) means that the time taken grows linearly with the input size. If the input size doubles, so does the time taken.\n",
    "\n",
    "- **Example**: Searching for an element in an unsorted list. In the worst case, you might have to look at every element once, so for a list twice as long, it'll take twice as long to search.\n",
    "\n",
    "<img src=\"./assets/images/Linear-Chart.png\">\n",
    "\n",
    "<br>\n",
    "\n",
    "#### O(log n) - Logarithmic Complexity\n",
    "\n",
    "- **What it means**: Logarithmic time complexity is faster than linear time. Here, every time you double the size of your input, the number of steps needed increases by just one step or a small amount.\n",
    "\n",
    "- **Example**: Binary search in a sorted array. Each time you divide the array in half, significantly reducing the number of elements you need to check.\n",
    "\n",
    "<img src=\"./assets/images/Logarithmic-Time-Chart.png\">\n",
    "\n",
    "<br>\n",
    "\n",
    "#### O(n log n) - Log-Linear Complexity\n",
    "\n",
    "- **What it means**: Log-Linear complexity describes algorithms where the time taken increases linearly with the input size, but each step of the process involves a logarithmic number of operations. It's more efficient than quadratic time but less so than linear time for large datasets.\n",
    "\n",
    "- **Example**: Merge Sort is a typical example. It involves dividing the dataset into smaller halves (log n) and then combining them (n), leading to n log n operations overall. This makes it much faster than quadratic algorithms for large datasets.\n",
    "\n",
    "<img src=\"./assets/images/Linearithmic-Time-Chart.png\">\n",
    "\n",
    "<br>\n",
    "\n",
    "#### O(n^2) - Quadratic Complexity\n",
    "\n",
    "- **What it means**: Quadratic time means that if you double the input size, the time taken increases by four times (2^2). It grows significantly faster than linear time and can become inefficient for large inputs.\n",
    "\n",
    "- **Example**: A nested loop where for each element of the array, you perform another loop over the entire array, like in a simple sorting algorithm like bubble sort.\n",
    "\n",
    "<img src=\"./assets/images/Quadratic-Time-Chart.png\">\n",
    "\n",
    "<br>\n",
    "\n",
    "#### O(2^n) - Exponential Complexity\n",
    "\n",
    "- **What it means**: In exponential time, the growth of the runtime doubles with each addition to the input data set. This is generally unsustainable even for moderately large input sizes.\n",
    "\n",
    "- **Example**: Algorithms that solve problems by generating all combinations, like certain recursive algorithms.\n",
    "\n",
    "<img src=\"./assets/images/Exponential-Time-Chart.png\">\n",
    "\n",
    "<br>\n",
    "\n",
    "#### O(n!) - Factorial Complexity\n",
    "\n",
    "- **What it means**: Factorial time complexity is even more extreme than exponential. Here, the number of operations increases factorially with the input size. It becomes impractical for even small input sizes.\n",
    "\n",
    "- **Example**: Solving the Traveling Salesman Problem via brute-force, checking all possible routes.\n",
    "\n",
    "<img src=\"./assets/images/Factorial-Time-Chart.png\">\n",
    "\n",
    "\n"
   ]
  },
  {
   "cell_type": "markdown",
   "metadata": {},
   "source": [
    "<br>\n",
    "\n",
    "---\n",
    "\n",
    "<br>"
   ]
  },
  {
   "cell_type": "markdown",
   "metadata": {},
   "source": [
    "## Fundamental Data Structures "
   ]
  },
  {
   "cell_type": "markdown",
   "metadata": {},
   "source": [
    "#### Arrays\n",
    "\n",
    "An **array** is a collection of elements, each identified by at least one array index or key. Arrays are stored in contiguous blocks of memory, with each element occupying a memory slot.\n",
    "\n",
    "### Memory Storage\n",
    "Array elements are stored contiguously in memory. If the base address is known, the address of any element can be computed as:\n",
    "\n",
    "```python\n",
    "address = base_address + (index * size_of_element)\n",
    "```\n",
    "\n",
    "The `size_of_element` is constant, reflecting the array's homogeneous nature.\n",
    "\n",
    "### Time Complexity\n",
    "\n",
    "- **Access**: \\( O(1) \\) — Constant time due to direct indexing.\n",
    "- **Search**: \\( O(n) \\) — Linear search time, as each element may need to be checked.\n",
    "- **Insertion**: \\( O(n) \\) — On average, shifting elements is required.\n",
    "- **Deletion**: \\( O(n) \\) — Similar to insertion, elements need to be shifted to fill the gap.\n",
    "\n",
    "| Operation       | Big O   | Description |\n",
    "|-----------------|---------|-------------|\n",
    "| Access          | O(1)    | Direct access to elements by their index. |\n",
    "| Search          | O(n)    | May require scanning the entire array. |\n",
    "| Insertion/Deletion | O(n) | Typically involves shifting elements. |\n",
    "| Appending       | O(1)    | Amortized; efficient if space is available. |\n",
    "\n",
    "For dynamic arrays (like Python's `list`), the time complexity for insertions or deletions at the end can be \\( O(1) \\) on average, due to amortized cost.\n",
    "\n",
    "### Space Complexity\n",
    "\n",
    "- **Total Space**: \\( O(n) \\) — Directly proportional to the number of elements.\n",
    "- **Per Element**: The space required for each element depends on the data type.\n",
    "\n",
    "### Low-Level Details\n",
    "\n",
    "- **Static vs Dynamic**: Static arrays have fixed size. Dynamic arrays (e.g., Python's `list`) can resize.\n",
    "- **Memory Alignment**: Elements are aligned in memory, improving spatial locality and cache utilization.\n",
    "- **Pointer Arithmetic**: In lower-level languages, array indexing can be done via pointer arithmetic.\n",
    "- **Allocation**: Typically allocated from the data segment or heap segment of memory.\n",
    "\n",
    "Arrays are foundational for building more complex data structures and provide efficient data access patterns.\n"
   ]
  },
  {
   "cell_type": "code",
   "execution_count": null,
   "metadata": {},
   "outputs": [],
   "source": [
    "greeting = [\"H\", \"E\", \"L\", \"L\", \"O\"]"
   ]
  },
  {
   "cell_type": "markdown",
   "metadata": {},
   "source": [
    "<img src=\"./assets/images/Array.png\">"
   ]
  },
  {
   "cell_type": "code",
   "execution_count": null,
   "metadata": {},
   "outputs": [],
   "source": [
    "for x in range(5):\n",
    "    print(greeting[x])"
   ]
  },
  {
   "cell_type": "markdown",
   "metadata": {},
   "source": [
    "| Operation       | Big O   | Description |\n",
    "|-----------------|---------|-------------|\n",
    "| Access          | O(1)    | Direct access to elements by their index. |\n",
    "| Search          | O(n)    | May require scanning the entire array. |\n",
    "| Insertion/Deletion | O(n) | Typically involves shifting elements. |\n",
    "| Appending       | O(1)    | Amortized; efficient if space is available. |\n",
    "\n",
    "*Note: Arrays in some languages have a fixed size, making resizing an O(n) operation.*\n"
   ]
  },
  {
   "cell_type": "markdown",
   "metadata": {},
   "source": [
    "#### Array (List) Example"
   ]
  },
  {
   "cell_type": "markdown",
   "metadata": {},
   "source": [
    "#### Access\n",
    "\n",
    "Accessing an element in an array is a constant-time operation. "
   ]
  },
  {
   "cell_type": "code",
   "execution_count": null,
   "metadata": {},
   "outputs": [],
   "source": [
    "print(array[2])  # Output: 3"
   ]
  },
  {
   "cell_type": "markdown",
   "metadata": {},
   "source": [
    "#### Search"
   ]
  },
  {
   "cell_type": "code",
   "execution_count": null,
   "metadata": {},
   "outputs": [],
   "source": [
    "print(\"Mars\" in planets)"
   ]
  },
  {
   "cell_type": "markdown",
   "metadata": {},
   "source": [
    "#### Insertion"
   ]
  },
  {
   "cell_type": "code",
   "execution_count": null,
   "metadata": {},
   "outputs": [],
   "source": [
    "planets.insert(4, \"Jupiter\")  \n",
    "print(planets)"
   ]
  },
  {
   "cell_type": "markdown",
   "metadata": {},
   "source": [
    "#### Deletion"
   ]
  },
  {
   "cell_type": "code",
   "execution_count": null,
   "metadata": {},
   "outputs": [],
   "source": [
    "planets.remove(\"Jupiter\")\n",
    "print(planets)"
   ]
  },
  {
   "cell_type": "markdown",
   "metadata": {},
   "source": [
    "#### Appending"
   ]
  },
  {
   "cell_type": "code",
   "execution_count": null,
   "metadata": {},
   "outputs": [],
   "source": [
    "planets.append(\"Jupiter\")\n",
    "print(planets)"
   ]
  },
  {
   "cell_type": "markdown",
   "metadata": {},
   "source": [
    "<br>"
   ]
  },
  {
   "cell_type": "markdown",
   "metadata": {},
   "source": [
    "\n",
    "#### Linked Lists\n",
    "\n",
    "Linked Lists are fundamental data structures in computer science, used extensively due to their dynamic size and efficient insertion and deletion operations. \n",
    "\n",
    "Unlike arrays, linked lists do not require a contiguous block of memory and can efficiently utilize space.\n",
    "\n",
    "<br>\n",
    "\n",
    "#### Singly Linked Lists\n",
    "\n",
    "A Singly Linked List is a collection of nodes that together form a linear sequence. Each node stores a reference to an object that is an element of the sequence, as well as a reference to the next node of the list.\n",
    "\n",
    "Structure of a Singly Linked List:\n",
    "- Node: The fundamental part of a linked list. Each node contains the data and a reference (or link) to the next node in the list.\n",
    "- Head: The first node in a linked list.\n",
    "- Tail: The last node in a linked list, which points to None or null, indicating the end of the list.\n",
    "\n",
    "Characteristics of Singly Linked Lists:\n",
    "- Dynamic Size: Unlike arrays, linked lists do not have a fixed size.\n",
    "- Efficient Insertions/Deletions: Adding or removing nodes does not require reorganization of the entire data structure.\n",
    "- Sequential Access: Elements are accessed sequentially, starting from the head node.\n",
    "- Memory Utilization: Does not require a contiguous block of memory.\n",
    "\n",
    "<img src=\"./assets/images/Singly-Linked-List.png\">\n"
   ]
  },
  {
   "cell_type": "code",
   "execution_count": null,
   "metadata": {},
   "outputs": [],
   "source": [
    "# Define the Node class\n",
    "class Node:\n",
    "    def __init__(self, data):\n",
    "        \"\"\"\n",
    "        A Node has two attributes:\n",
    "        data - The content of the node, which can be of any datatype.\n",
    "        next - A pointer to the next node in the linked list, initialized as None.\n",
    "        \"\"\"\n",
    "        self.data = data\n",
    "        self.next = None\n",
    "\n",
    "# Define the LinkedList class\n",
    "class LinkedList:\n",
    "    def __init__(self):\n",
    "        \"\"\"\n",
    "        The LinkedList has a single attribute:\n",
    "        head - The first node of the list, initialized as None.\n",
    "        \"\"\"\n",
    "        self.head = None\n",
    "\n",
    "    def append(self, data):\n",
    "        \"\"\"\n",
    "        The append method adds a new node containing 'data' to the end of the list.\n",
    "        \n",
    "        If the list is empty (i.e., the head is None), then the new node becomes the head of the list.\n",
    "        Otherwise, it finds the last node and sets its 'next' pointer to the new node.\n",
    "        \"\"\"\n",
    "        new_node = Node(data)  # Create a new node\n",
    "        if self.head is None:  # If the list is empty\n",
    "            self.head = new_node\n",
    "        else:\n",
    "            last_node = self.head\n",
    "            while last_node.next:  # Traverse to the last node\n",
    "                last_node = last_node.next\n",
    "            last_node.next = new_node  # Set the 'next' pointer of the last node to the new node\n",
    "\n",
    "    def print_list(self):\n",
    "        \"\"\"\n",
    "        This method prints out the LinkedList starting from the head node and ending at the last node.\n",
    "        \n",
    "        It traverses each node and prints the 'data' until it reaches the end of the list (i.e., next is None).\n",
    "        \"\"\"\n",
    "        current_node = self.head\n",
    "        while current_node:\n",
    "            print(current_node.data, end=' -> ' if current_node.next else '')\n",
    "            current_node = current_node.next\n",
    "        print('Null')  # Print 'Null' at the end to signify the end of the list\n",
    "\n",
    "# Create an instance of the LinkedList class\n",
    "linked_list = LinkedList()\n",
    "\n",
    "# Append nodes to the LinkedList\n",
    "linked_list.append(\"A\")\n",
    "linked_list.append(\"B\")\n",
    "linked_list.append(\"C\")\n",
    "linked_list.append(\"D\")\n",
    "\n",
    "# Print the LinkedList\n",
    "linked_list.print_list()\n"
   ]
  },
  {
   "cell_type": "markdown",
   "metadata": {},
   "source": [
    "#### Stacks and Queues\n",
    "\n",
    "| Operation       | Big O   | Description |\n",
    "|-----------------|---------|-------------|\n",
    "| Access          | O(n)    | Requires traversal of the structure. |\n",
    "| Search          | O(n)    | Sequential search is needed. |\n",
    "| Insertion/Deletion | O(1) | Quick operation at the top/front. |\n",
    "\n",
    "*Note: Stacks (LIFO) and queues (FIFO) can be implemented using arrays or linked lists.*\n",
    "\n",
    "<br>\n",
    "\n",
    "#### Hash Tables\n",
    "\n",
    "| Operation       | Big O   | Description |\n",
    "|-----------------|---------|-------------|\n",
    "| Access          | N/A     | Not applicable as direct access isn't typical. |\n",
    "| Search          | O(1)    | Fast retrieval, but depends on collision handling. |\n",
    "| Insertion/Deletion | O(1) | Generally efficient barring collisions. |\n",
    "\n",
    "*Note: Collisions and their resolution strategies can significantly affect performance.*\n",
    "\n",
    "<br>\n",
    "\n",
    "#### Trees\n",
    "\n",
    "| Operation       | Big O   | Description |\n",
    "|-----------------|---------|-------------|\n",
    "| Access/Search   | O(log n) | For balanced binary search trees. |\n",
    "| Insertion/Deletion | O(log n) | Depends on the tree's balance. |\n",
    "\n",
    "*Note: Trees, such as AVL and Red-Black, have specific balancing algorithms.*\n",
    "\n",
    "<br>\n",
    "\n",
    "#### Graphs\n",
    "\n",
    "| Operation       | Big O         | Description |\n",
    "|-----------------|---------------|-------------|\n",
    "| Access/Search   | O(V + E)      | Based on vertices (V) and edges (E). |\n",
    "| Insert Vertex/Edge | O(1)       | For adjacency list; O(V^2) for matrix. |\n",
    "| Delete Vertex/Edge | O(V + E)   | For adjacency list; O(V^2) for matrix. |\n",
    "\n",
    "*Note: Graphs are used for complex network representations and have varied complexity based on their representation (adjacency list/matrix) and search algorithm (DFS/BFS).*\n",
    "\n",
    "Using tables for each data structure helps to clearly delineate the complexities and descriptions of operations, providing a quick and organized reference.\n"
   ]
  }
 ],
 "metadata": {
  "kernelspec": {
   "display_name": "venv",
   "language": "python",
   "name": "python3"
  },
  "language_info": {
   "codemirror_mode": {
    "name": "ipython",
    "version": 3
   },
   "file_extension": ".py",
   "mimetype": "text/x-python",
   "name": "python",
   "nbconvert_exporter": "python",
   "pygments_lexer": "ipython3",
   "version": "3.11.4"
  }
 },
 "nbformat": 4,
 "nbformat_minor": 2
}

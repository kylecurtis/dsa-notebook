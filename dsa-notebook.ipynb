{
 "cells": [
  {
   "cell_type": "markdown",
   "metadata": {},
   "source": [
    "# DSA Notebook\n",
    "\n",
    "<br>\n",
    "\n",
    "## Table Of Contents\n",
    "\n",
    "`easy, hard = ⭐, ⭐⭐⭐⭐`\n",
    "\n",
    "| Topic | Difficulty | \n",
    "| :-- | :--: | \n",
    "| [Understanding Big O Notation](#) | ⭐ |\n",
    "| [Common Big O Classifications](#) | ⭐ |\n",
    "\n",
    "<br>\n"
   ]
  },
  {
   "cell_type": "markdown",
   "metadata": {},
   "source": [
    "<br>\n",
    "\n",
    "---\n",
    "\n",
    "<br>"
   ]
  },
  {
   "cell_type": "markdown",
   "metadata": {},
   "source": [
    "## Understanding Big O Notation\n",
    "\n",
    "Big O notation is a mathematical concept used to describe the efficiency of an algorithm in terms of its time and space requirements. \n",
    "\n",
    "It abstracts away constants and less significant terms to focus on the dominant factor that affects scalability.\n",
    "\n",
    "<br>\n",
    "\n",
    "#### Categories of Computational Complexity\n",
    "\n",
    "| Time Complexity | Space Complexity |\n",
    "|:---------------:|:----------------:|\n",
    "| This is a measure of the number of computational steps an algorithm takes relative to the input size. It gives us an idea of how long an algorithm will take to execute as the size of the input increases. | This is a measure of the amount of memory space required by an algorithm as the input size grows. It helps us understand how the memory usage of an algorithm will scale with larger inputs. |\n",
    "\n",
    "***Time complexity is generally what is discussed when referring to Big O, though space complexity is equally important in resource-constrained environments or with large datasets.***\n",
    "\n",
    "<br>\n",
    "\n",
    "#### Big O example:\n",
    "\n",
    "`O(n)`\n",
    "\n",
    "- The \"O\" stands for \"Order of,\" which refers to the growth rate of the algorithm's resource usage in the worst-case scenario.\n",
    "\n",
    "- The \"n\" symbolizes the size of the input, but it is not the only variable that can be used. The specific nature of the input or the algorithm can introduce other variables.\n",
    "\n",
    "<br>\n",
    "\n",
    "#### Coefficients and Multiple Variables in Big O:\n",
    "\n",
    "Coefficients and additional variables may appear alongside or instead of `n` to provide a more precise characterization of complexity:\n",
    "\n",
    "- Coefficients: Constants are typically omitted in Big O notation because they don't change the growth rate. For example, `2n` and `n` both simplify to `O(n)`, as they grow linearly with `n`.\n",
    "\n",
    "- Multiple variables: For algorithms involving multi-dimensional data or operations, multiple variables can be used. For instance, in matrix multiplication, if one matrix is of size `m x n` and the other is `n x p`, the time complexity can be expressed as `O(mnp)`."
   ]
  },
  {
   "cell_type": "markdown",
   "metadata": {},
   "source": [
    "<br>\n",
    "\n",
    "---\n",
    "\n",
    "<br>"
   ]
  },
  {
   "cell_type": "markdown",
   "metadata": {},
   "source": [
    "\n",
    "## Common Big O Classifications\n",
    "\n",
    "#### O(1) - Constant Time\n",
    "\n",
    "The execution time is fixed and does not change with the input size.\n",
    "\n",
    "<img src=\"./assets/images/Constant-Chart.png\">\n",
    "\n",
    "<br>\n",
    "\n",
    "#### O(n) - Linear Time\n",
    "\n",
    "The execution time grows linearly with the input size.\n",
    "\n",
    "<img src=\"./assets/images/Linear-Chart.png\">\n",
    "\n",
    "<br>\n",
    "\n",
    "#### O(log n) - Logarithmic Time\n",
    "\n",
    "The execution time grows logarithmically with the input size.\n",
    "\n",
    "<img src=\"./assets/images/Logarithmic-Time-Chart.png\">\n",
    "\n",
    "<br>\n",
    "\n",
    "#### O(n log n) - Linearithmic Time\n",
    "\n",
    "The execution time is a combination of linear and logarithmic growth.\n",
    "\n",
    "<img src=\"./assets/images/Linearithmic-Time-Chart.png\">\n",
    "\n",
    "<br>\n",
    "\n",
    "#### O(n^2) - Quadratic Time\n",
    "\n",
    "The execution time grows proportionally to the square of the input size.\n",
    "\n",
    "<img src=\"./assets/images/Quadratic-Time-Chart.png\">\n",
    "\n",
    "<br>\n",
    "\n",
    "#### O(2^n) - Exponential Time\n",
    "\n",
    "The execution time doubles with each additional element in the input.\n",
    "\n",
    "<img src=\"./assets/images/Exponential-Time-Chart.png\">\n",
    "\n",
    "<br>\n",
    "\n",
    "#### O(n!) - Factorial Time\n",
    "\n",
    "The execution time grows factorially with the input size, becoming impractical even for relatively small n.\n",
    "\n",
    "<img src=\"./assets/images/Factorial-Time-Chart.png\">\n",
    "\n",
    "\n"
   ]
  },
  {
   "cell_type": "markdown",
   "metadata": {},
   "source": [
    "<br>\n",
    "\n",
    "---\n",
    "\n",
    "<br>"
   ]
  }
 ],
 "metadata": {
  "kernelspec": {
   "display_name": "venv",
   "language": "python",
   "name": "python3"
  },
  "language_info": {
   "codemirror_mode": {
    "name": "ipython",
    "version": 3
   },
   "file_extension": ".py",
   "mimetype": "text/x-python",
   "name": "python",
   "nbconvert_exporter": "python",
   "pygments_lexer": "ipython3",
   "version": "3.11.4"
  }
 },
 "nbformat": 4,
 "nbformat_minor": 2
}
